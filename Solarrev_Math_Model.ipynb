{
 "cells": [
  {
   "cell_type": "markdown",
   "metadata": {},
   "source": [
    "# Get solar potential data from coordinates"
   ]
  },
  {
   "cell_type": "markdown",
   "metadata": {},
   "source": [
    "## Input coordinates to get image "
   ]
  },
  {
   "cell_type": "code",
   "execution_count": 1,
   "metadata": {},
   "outputs": [],
   "source": [
    "Lat,Lon = -6.21151,106.74293"
   ]
  },
  {
   "cell_type": "code",
   "execution_count": 2,
   "metadata": {},
   "outputs": [],
   "source": [
    "#JANGAN TERLALU SERING DI-RUN\n",
    "#JANGAN TERLALU SERING DI-RUN\n",
    "#JANGAN TERLALU SERING DI-RUN\n",
    "#JANGAN TERLALU SERING DI-RUN\n",
    "#JANGAN TERLALU SERING DI-RUN\n",
    "#JANGAN TERLALU SERING DI-RUN\n",
    "\n",
    "import urllib\n",
    "import os\n",
    "import math\n",
    "from PIL import Image\n",
    "\n",
    "class GoogleMapDownloader:\n",
    "    \"\"\"\n",
    "        A class which generates high resolution google maps images given\n",
    "        a longitude, latitude and zoom level\n",
    "    \"\"\"\n",
    "\n",
    "    def __init__(self, lat, lng, zoom=22):\n",
    "        \"\"\"\n",
    "            GoogleMapDownloader Constructor\n",
    "            Args:\n",
    "                lat:    The latitude of the location required\n",
    "                lng:    The longitude of the location required\n",
    "                zoom:   The zoom level of the location required, ranges from 0 - 23\n",
    "                        defaults to 22 -> 30 meters x 30 meters\n",
    "        \"\"\"\n",
    "        self._lat = lat\n",
    "        self._lng = lng\n",
    "        self._zoom = zoom\n",
    "\n",
    "    def getXY(self):\n",
    "        \"\"\"\n",
    "            Generates an X,Y tile coordinate based on the latitude, longitude \n",
    "            and zoom level\n",
    "            Returns:    An X,Y tile coordinate\n",
    "        \"\"\"\n",
    "        \n",
    "        tile_size = 256\n",
    "\n",
    "        # Use a left shift to get the power of 2\n",
    "        # i.e. a zoom level of 2 will have 2^2 = 4 tiles\n",
    "        numTiles = 1 << self._zoom\n",
    "\n",
    "        # Find the x_point given the longitude\n",
    "        point_x = ((tile_size / 2 + self._lng * tile_size / 360.0) * numTiles // tile_size)\n",
    "\n",
    "        # Convert the latitude to radians and take the sine\n",
    "        sin_y = math.sin(self._lat * (math.pi / 180.0))\n",
    "\n",
    "        # Calulate the y coorindate\n",
    "        point_y = ((tile_size / 2) + 0.5 * math.log((1+sin_y)/(1-sin_y)) * -(tile_size / (2 * math.pi))) * numTiles // tile_size\n",
    "\n",
    "        return int(point_x), int(point_y)\n",
    "\n",
    "    def generateImagewhite(self, **kwargs):\n",
    "        \"\"\"\n",
    "            Generates an image by stitching a number of google map tiles together.\n",
    "            \n",
    "            Args:\n",
    "                start_x:        The top-left x-tile coordinate\n",
    "                start_y:        The top-left y-tile coordinate\n",
    "                tile_width:     The number of tiles wide the image should be -\n",
    "                                defaults to 5\n",
    "                tile_height:    The number of tiles high the image should be -\n",
    "                                defaults to 5\n",
    "            Returns:\n",
    "                A high-resolution Goole Map image.\n",
    "        \"\"\"\n",
    "\n",
    "        start_x = kwargs.get('start_x', None)\n",
    "        start_y = kwargs.get('start_y', None)\n",
    "        tile_width = kwargs.get('tile_width', 3)\n",
    "        tile_height = kwargs.get('tile_height', 3)\n",
    "\n",
    "        # Check that we have x and y tile coordinates\n",
    "        if start_x == None or start_y == None :\n",
    "            start_x, start_y = self.getXY()\n",
    "\n",
    "        # Determine the size of the image\n",
    "        width, height = 256 * tile_width, 256 * tile_height\n",
    "\n",
    "        #Create a new image of the size require\n",
    "        map_img = Image.new('RGB', (width,height))\n",
    "\n",
    "        for x in range(0, tile_width):\n",
    "            for y in range(0, tile_height) :\n",
    "                url = 'https://mt0.google.com/vt?x='+str(start_x + x)+'&y='+str(start_y + y)+'&z='+ str(self._zoom)\n",
    "                current_tile = str(x)+'-'+str(y)\n",
    "                urllib.request.urlretrieve(url, current_tile)\n",
    "            \n",
    "                im = Image.open(current_tile)\n",
    "                map_img.paste(im, (x*256, y*256))\n",
    "              \n",
    "                os.remove(current_tile)\n",
    "\n",
    "        return map_img\n",
    "    \n",
    "    def generateImagefull(self, **kwargs):\n",
    "        \"\"\"\n",
    "            Generates an image by stitching a number of google map tiles together.\n",
    "            \n",
    "            Args:\n",
    "                start_x:        The top-left x-tile coordinate\n",
    "                start_y:        The top-left y-tile coordinate\n",
    "                tile_width:     The number of tiles wide the image should be -\n",
    "                                defaults to 5\n",
    "                tile_height:    The number of tiles high the image should be -\n",
    "                                defaults to 5\n",
    "            Returns:\n",
    "                A high-resolution Goole Map image.\n",
    "        \"\"\"\n",
    "\n",
    "        start_x = kwargs.get('start_x', None)\n",
    "        start_y = kwargs.get('start_y', None)\n",
    "        tile_width = kwargs.get('tile_width', 3)\n",
    "        tile_height = kwargs.get('tile_height', 3)\n",
    "\n",
    "        # Check that we have x and y tile coordinates\n",
    "        if start_x == None or start_y == None :\n",
    "            start_x, start_y = self.getXY()\n",
    "\n",
    "        # Determine the size of the image\n",
    "        width, height = 256 * tile_width, 256 * tile_height\n",
    "\n",
    "        #Create a new image of the size require\n",
    "        map_img = Image.new('RGB', (width,height))\n",
    "\n",
    "        for x in range(0, tile_width):\n",
    "            for y in range(0, tile_height) :\n",
    "                url = 'https://mt0.google.com/vt/lyrs=y&?x='+str(start_x + x)+'&y='+str(start_y + y)+'&z='+ str(self._zoom)\n",
    "                current_tile = str(x)+'-'+str(y)\n",
    "                urllib.request.urlretrieve(url, current_tile)\n",
    "            \n",
    "                im = Image.open(current_tile)\n",
    "                map_img.paste(im, (x*256, y*256))\n",
    "              \n",
    "                os.remove(current_tile)\n",
    "\n",
    "        return map_img"
   ]
  },
  {
   "cell_type": "code",
   "execution_count": 3,
   "metadata": {},
   "outputs": [],
   "source": [
    "def imgwhite(lat,lon):\n",
    "    # get white image\n",
    "    center_x = 0.0001\n",
    "    center_y = -0.0001\n",
    "    gmd = GoogleMapDownloader(lat+center_x,lon+center_y, 22)\n",
    "    img = gmd.generateImagewhite()\n",
    "    \n",
    "    return img\n",
    "\n",
    "def imgfull(lat,lon):\n",
    "    # get full image\n",
    "    center_x = 0.0001\n",
    "    center_y = -0.0001\n",
    "    gmd = GoogleMapDownloader(lat+center_x,lon+center_y, 22)\n",
    "    img = gmd.generateImagefull()\n",
    "    \n",
    "    return img"
   ]
  },
  {
   "cell_type": "code",
   "execution_count": 4,
   "metadata": {
    "scrolled": true
   },
   "outputs": [],
   "source": [
    "import cv2\n",
    "import numpy as np\n",
    "import matplotlib.pyplot as plt\n",
    "\n",
    "\n",
    "img = imgwhite(Lat,Lon)\n",
    "imgclear = imgfull(Lat,Lon)\n",
    "#rotate 90 degrees\n",
    "img = np.asarray(img)\n",
    "imgclear = np.asarray(imgclear)\n",
    "W,H = 768, 768\n",
    "center =(W/2,W/2)\n",
    "scale = 1\n",
    "M = cv2.getRotationMatrix2D(center, -30, scale)\n",
    "img= cv2.warpAffine(img, M, (W, H))\n",
    "imgclear= cv2.warpAffine(imgclear, M, (W, H))"
   ]
  },
  {
   "cell_type": "markdown",
   "metadata": {},
   "source": [
    "## Proccess Image to get solar cells"
   ]
  },
  {
   "cell_type": "code",
   "execution_count": 5,
   "metadata": {
    "scrolled": false
   },
   "outputs": [],
   "source": [
    "def gethouse(image):\n",
    "    #capture image of house as rectangle\n",
    "    house = np.zeros((768,768,3),dtype=np.uint8)\n",
    "    U,D,L,R = 383,383,383,383\n",
    "    \n",
    "    while np.sum(image[U][383])<2.92*255:\n",
    "        U = U-1\n",
    "    while np.sum(image[D][383])<2.92*255:\n",
    "        D = D+1\n",
    "    while np.sum(image[383][L])<2.92*255:\n",
    "        L = L-1\n",
    "    while np.sum(image[383][R])<2.92*255:\n",
    "        R = R+1\n",
    "    \n",
    "    house = cv2.rectangle(house,(L,U),(R,D),[255,255,255],-1)\n",
    "    \n",
    "    return house,L,R,U,D"
   ]
  },
  {
   "cell_type": "code",
   "execution_count": 6,
   "metadata": {},
   "outputs": [],
   "source": [
    "house,L,R,U,D = gethouse(img)"
   ]
  },
  {
   "cell_type": "code",
   "execution_count": 44,
   "metadata": {},
   "outputs": [],
   "source": [
    "def getsolarpanelsystem():\n",
    "    #capture images of maximum solar installations\n",
    "    w = int((1.5/30)*768)\n",
    "    h = int((1/30)*768)\n",
    "    if (D-U)/(R-L)>1.5:\n",
    "        p1 = 0\n",
    "        panel1 = np.zeros((768,768,3),dtype=np.uint8)\n",
    "        for i in range(1,int((R-L)/(2*h))):\n",
    "            for j in range(1,int((R-L-(2*(i+1)*w))/w)):\n",
    "                left = L+((i+1)*w)\n",
    "                panel1 = cv2.rectangle(panel1, (left+(j*w),U+((i+1)*h)), (left+((j+1)*w),U+(i*h)), [255,255,0], -1)\n",
    "                p1 = p1+1\n",
    "\n",
    "        p2 = 0\n",
    "        panel2 = np.zeros((768,768,3),dtype=np.uint8)        \n",
    "        for j in range(1,int((R-L)/(2*h))):\n",
    "            for i in range(1,int((D-U-(2*(j+1)*w))/w)):\n",
    "                top = U+((j+1)*w)\n",
    "                panel2 = cv2.rectangle(panel2, (L+(j*h),top+((i+1)*w)), (L+((j+1)*h),top+(i*w)), [255,255,0], -1)\n",
    "                p2 = p2+1\n",
    "\n",
    "        p3 = 0\n",
    "        panel3 = np.zeros((768,768,3),dtype=np.uint8)\n",
    "        for i in range(1,int((R-L)/(2*h))):\n",
    "            for j in range(1,int((R-L-(2*(i+1)*w))/w)):\n",
    "                left = L+((i+1)*w)\n",
    "                panel3 = cv2.rectangle(panel3, (left+(j*w),D-((i+1)*h)), (left+((j+1)*w),D-(i*h)), [255,255,0], -1)\n",
    "                p3 = p3+1        \n",
    "\n",
    "\n",
    "        p4 = 0\n",
    "        panel4 = np.zeros((768,768,3),dtype=np.uint8)        \n",
    "        for j in range(1,int((R-L)/(2*h))):\n",
    "            for i in range(int((D-U-(2*(j+1)*w))/w)):\n",
    "                top = U+((j+1)*w)\n",
    "                panel4 = cv2.rectangle(panel4, (R-(j*h),top+((i+1)*w)), (R-((j+1)*h),top+(i*w)), [255,255,0], -1)\n",
    "                p4 = p4+1\n",
    "    else:\n",
    "        p1 = 0\n",
    "        panel1 = np.zeros((768,768,3),dtype=np.uint8)\n",
    "        for i in range(1,int((D-U)/(2*h))):\n",
    "            for j in range(1,int((R-L-(2*(i+1)*w))/w)):\n",
    "                left = L+((i+1)*w)\n",
    "                panel1 = cv2.rectangle(panel1, (left+(j*w),U+((i+1)*h)), (left+((j+1)*w),U+(i*h)), [255,255,0], -1)\n",
    "                p1 = p1+1\n",
    "\n",
    "        p2 = 0\n",
    "        panel2 = np.zeros((768,768,3),dtype=np.uint8)        \n",
    "        for j in range(1,int((R-L)/(2*h))):\n",
    "            for i in range(1,int((D-U-(2*(j+1)*w))/w)):\n",
    "                top = U+((j+1)*w)\n",
    "                panel2 = cv2.rectangle(panel2, (L+(j*h),top+((i+1)*w)), (L+((j+1)*h),top+(i*w)), [255,255,0], -1)\n",
    "                p2 = p2+1\n",
    "\n",
    "        p3 = 0\n",
    "        panel3 = np.zeros((768,768,3),dtype=np.uint8)\n",
    "        for i in range(1,int((D-U)/(2*h))):\n",
    "            for j in range(1,int((R-L-(2*(i+1)*w))/w)):\n",
    "                left = L+((i+1)*w)\n",
    "                panel3 = cv2.rectangle(panel3, (left+(j*w),D-((i+1)*h)), (left+((j+1)*w),D-(i*h)), [255,255,0], -1)\n",
    "                p3 = p3+1        \n",
    "\n",
    "\n",
    "        p4 = 0\n",
    "        panel4 = np.zeros((768,768,3),dtype=np.uint8)        \n",
    "        for j in range(1,int((R-L)/(2*h))):\n",
    "            for i in range(1,int((D-U-(2*(j+1)*w))/w)):\n",
    "                top = U+((j+1)*w)\n",
    "                panel4 = cv2.rectangle(panel4, (R-(j*h),top+((i+1)*w)), (R-((j+1)*h),top+(i*w)), [255,255,0], -1)\n",
    "                p4 = p4+1\n",
    "        \n",
    "    return panel1, panel2, panel3, panel4, p1,p2,p3,p4"
   ]
  },
  {
   "cell_type": "code",
   "execution_count": 45,
   "metadata": {},
   "outputs": [],
   "source": [
    "#pictures of solar cells and number of solar cells\n",
    "panel1, panel2, panel3, panel4, p1,p2,p3,p4 = getsolarpanelsystem()\n",
    "\n",
    "#area of each solar panel system in m^2\n",
    "area1 = p1*1.5\n",
    "area2 = p2*1.5\n",
    "area3 = p3*1.5\n",
    "area4 = p4*1.5\n",
    "\n",
    "#total cells and total area of system m^2\n",
    "p = p1+p2+p3+p4\n",
    "area = p*1.5"
   ]
  },
  {
   "cell_type": "code",
   "execution_count": 46,
   "metadata": {
    "scrolled": true
   },
   "outputs": [
    {
     "data": {
      "text/plain": [
       "<matplotlib.image.AxesImage at 0x1ff095bcc48>"
      ]
     },
     "execution_count": 46,
     "metadata": {},
     "output_type": "execute_result"
    },
    {
     "data": {
      "image/png": "[encoded data removed]",
      "text/plain": [
       "<Figure size 432x288 with 1 Axes>"
      ]
     },
     "metadata": {
      "needs_background": "light"
     },
     "output_type": "display_data"
    }
   ],
   "source": [
    "plt.imshow(cv2.addWeighted(panel1+panel2+panel3+panel4,0.1,imgclear,0.9,0))"
   ]
  },
  {
   "cell_type": "markdown",
   "metadata": {},
   "source": [
    "## Calculate Energy"
   ]
  },
  {
   "cell_type": "code",
   "execution_count": 47,
   "metadata": {},
   "outputs": [],
   "source": [
    "import pandas as pd\n",
    "\n",
    "def getdata(lat,lon):\n",
    "    #3 days forecasting of power generated by installing one 5 kwH solar panel system of 18 cells\n",
    "    url1 = 'https://api.solcast.com.au/world_pv_power/forecasts?latitude='+str(lat)+'&longitude='+str(lon)+'&capacity=5&tilt=30&azimuth=30&loss_factor=0.75&install_date=2020-04-07&format=csv&api_key=kO-BFvuHeIItv89revn90RXPqF3ZgTYE'\n",
    "    roof1 = pd.read_csv(url1)\n",
    "    url2 = 'https://api.solcast.com.au/world_pv_power/forecasts?latitude='+str(lat)+'&longitude='+str(lon)+'&capacity=5&tilt=30&azimuth=120&loss_factor=0.75&install_date=2020-04-07&format=csv&api_key=kO-BFvuHeIItv89revn90RXPqF3ZgTYE'\n",
    "    roof2 = pd.read_csv(url2)\n",
    "    url3 = 'https://api.solcast.com.au/world_pv_power/forecasts?latitude='+str(lat)+'&longitude='+str(lon)+'&capacity=5&tilt=30&azimuth=-150&loss_factor=0.75&install_date=2020-04-07&format=csv&api_key=kO-BFvuHeIItv89revn90RXPqF3ZgTYE'\n",
    "    roof3 = pd.read_csv(url3)\n",
    "    url4 = 'https://api.solcast.com.au/world_pv_power/forecasts?latitude='+str(lat)+'&longitude='+str(lon)+'&capacity=5&tilt=30&azimuth=-120&loss_factor=0.75&install_date=2020-04-07&format=csv&api_key=kO-BFvuHeIItv89revn90RXPqF3ZgTYE'\n",
    "    roof4 = pd.read_csv(url4)\n",
    "    \n",
    "    return roof1,roof2,roof3,roof4"
   ]
  },
  {
   "cell_type": "code",
   "execution_count": 48,
   "metadata": {},
   "outputs": [],
   "source": [
    "#forecast data of each system\n",
    "roof1,roof2,roof3,roof4 = getdata(Lat,Lon)"
   ]
  },
  {
   "cell_type": "code",
   "execution_count": 49,
   "metadata": {},
   "outputs": [],
   "source": [
    "def allroofs():\n",
    "    #returns energy generated assuming no change in weather patterns, all system installed\n",
    "    Eperday = 24*np.average((p1*roof1['PvEstimate'])+(p2*roof2['PvEstimate'])+(p3*roof3['PvEstimate'])+(p4*roof4['PvEstimate']))/18\n",
    "    Epermonth = 30*Eperday\n",
    "    Eperyear = 365*Eperday\n",
    "    \n",
    "    return Eperday, Epermonth, Eperyear"
   ]
  },
  {
   "cell_type": "code",
   "execution_count": 50,
   "metadata": {},
   "outputs": [],
   "source": [
    "Eperday, Epermonth, Eperyear =  allroofs()"
   ]
  },
  {
   "cell_type": "code",
   "execution_count": 51,
   "metadata": {},
   "outputs": [],
   "source": [
    "import operator\n",
    "\n",
    "def oneroof():\n",
    "    #returns energy generated assuming no change in weather patterns, best system installed\n",
    "    my_list = [np.average(p1*roof1['PvEstimate']),np.average(p2*roof2['PvEstimate']),np.average(p3*roof3['PvEstimate']),np.average(p4*roof4['PvEstimate'])]\n",
    "    index, p = max(enumerate(my_list), key=operator.itemgetter(1))\n",
    "\n",
    "    E1perday = 24*(p/18)\n",
    "    E1permonth = 30*E1perday\n",
    "    E1peryear = 365*E1perday\n",
    "\n",
    "    return index+1, E1perday, E1permonth, E1peryear"
   ]
  },
  {
   "cell_type": "code",
   "execution_count": 52,
   "metadata": {},
   "outputs": [],
   "source": [
    "bestroof_index, E1perday, E1permonth, E1peryear =  oneroof()"
   ]
  }
 ],
 "metadata": {
  "kernelspec": {
   "display_name": "Python 3",
   "language": "python",
   "name": "python3"
  },
  "language_info": {
   "codemirror_mode": {
    "name": "ipython",
    "version": 3
   },
   "file_extension": ".py",
   "mimetype": "text/x-python",
   "name": "python",
   "nbconvert_exporter": "python",
   "pygments_lexer": "ipython3",
   "version": "3.7.7"
  }
 },
 "nbformat": 4,
 "nbformat_minor": 4
}
